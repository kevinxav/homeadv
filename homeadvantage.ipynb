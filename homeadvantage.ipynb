{
  "nbformat": 4,
  "nbformat_minor": 0,
  "metadata": {
    "colab": {
      "provenance": [],
      "include_colab_link": true
    },
    "kernelspec": {
      "name": "python3",
      "display_name": "Python 3"
    },
    "language_info": {
      "name": "python"
    }
  },
  "cells": [
    {
      "cell_type": "markdown",
      "metadata": {
        "id": "view-in-github",
        "colab_type": "text"
      },
      "source": [
        "<a href=\"https://colab.research.google.com/github/kevinxav/homeadv/blob/main/homewwinanalysis.ipynb\" target=\"_parent\"><img src=\"https://colab.research.google.com/assets/colab-badge.svg\" alt=\"Open In Colab\"/></a>"
      ]
    },
    {
      "cell_type": "code",
      "execution_count": 3,
      "metadata": {
        "id": "hdFZIyVKmOO3"
      },
      "outputs": [],
      "source": [
        "#Importing required libraries\n",
        "import numpy as np\n",
        "import pandas as pd\n",
        "import matplotlib.pyplot as plt\n",
        "from scipy.stats import t,ttest_ind, ranksums, f, f_oneway"
      ]
    },
    {
      "cell_type": "code",
      "source": [
        "#Importing data\n",
        "df = pd.read_csv(\"/content/df_full_premierleague.csv\")"
      ],
      "metadata": {
        "id": "uB6LSl9xmWQE"
      },
      "execution_count": 4,
      "outputs": []
    },
    {
      "cell_type": "code",
      "source": [
        "#Extracting only required stats and reordering columns\n",
        "df = df.iloc[:, [2,10,14,15,16,17,19,22,26,27,28,29,31,32,33,35,36]]\n",
        "df = df[df.columns[[0,1,7,2,8,3,9,5,11,6,12,13,14,15,16]]]\n",
        "df.iloc[:, 1:] = df.iloc[:, 1:].astype(int)"
      ],
      "metadata": {
        "colab": {
          "base_uri": "https://localhost:8080/"
        },
        "id": "0iQ46j5imY9K",
        "outputId": "305e1afd-8209-4729-ea5e-0843d72373de"
      },
      "execution_count": 5,
      "outputs": [
        {
          "output_type": "stream",
          "name": "stderr",
          "text": [
            "<ipython-input-5-abe3af8b87a1>:4: DeprecationWarning: In a future version, `df.iloc[:, i] = newvals` will attempt to set the values inplace instead of always setting a new array. To retain the old behavior, use either `df[df.columns[i]] = newvals` or, if columns are non-unique, `df.isetitem(i, newvals)`\n",
            "  df.iloc[:, 1:] = df.iloc[:, 1:].astype(int)\n"
          ]
        }
      ]
    },
    {
      "cell_type": "code",
      "source": [
        "#Creating columns for wins and combining cards columns\n",
        "df['home_win'] = df.apply(lambda row: 1 if row['goal_home_ft'] > row['goal_away_ft'] else 0, axis=1)\n",
        "df['away_win'] = df.apply(lambda row: 1 if row['goal_home_ft'] < row['goal_away_ft'] else 0, axis=1)"
      ],
      "metadata": {
        "id": "M-HLQAyTmfGE"
      },
      "execution_count": 6,
      "outputs": []
    },
    {
      "cell_type": "code",
      "source": [
        "#Creating columns for comebacks\n",
        "df['home_ht_ahead'] = df.apply(lambda row: 1 if row['goal_home_ht'] > row['goal_away_ht'] else 0, axis=1)\n",
        "df['away_ht_ahead'] = df.apply(lambda row: 1 if row['goal_home_ht'] < row['goal_away_ht'] else 0, axis=1)\n",
        "df['home_comeback'] = df.apply(lambda row: 1 if row['home_ht_ahead'] < row['away_ht_ahead'] and row['home_win'] == 1 else 0, axis=1)\n",
        "df['away_comeback'] = df.apply(lambda row: 1 if row['home_ht_ahead'] > row['away_ht_ahead'] and row['away_win'] == 1 else 0, axis=1)"
      ],
      "metadata": {
        "id": "XxuMju07mhZc"
      },
      "execution_count": 7,
      "outputs": []
    },
    {
      "cell_type": "code",
      "source": [
        "#Combining card columns and dropping unnecessary columns\n",
        "df['home_cards'] = df['home_yellow_cards'] + df['home_red_cards']\n",
        "df['away_cards'] = df['away_yellow_cards'] + df['away_red_cards']\n",
        "df = df[df.columns[[0,1,2,21,22,5,6,7,8,11,12,15,16,19,20]]]\n",
        "df.to_csv('PL.csv',index = False)\n",
        "df.head()"
      ],
      "metadata": {
        "colab": {
          "base_uri": "https://localhost:8080/",
          "height": 226
        },
        "id": "HKVkJlKHmllv",
        "outputId": "87a22241-90c0-4f68-a467-bc667576b647"
      },
      "execution_count": 8,
      "outputs": [
        {
          "output_type": "execute_result",
          "data": {
            "text/plain": [
              "  season  home_fouls_conceded  away_fouls_conceded  home_cards  away_cards  \\\n",
              "0  10/11                   16                   13           2           5   \n",
              "1  10/11                    6                    3           1           0   \n",
              "2  10/11                    9                   17           0           4   \n",
              "3  10/11                   12                   14           1           2   \n",
              "4  10/11                   11                   13           2           1   \n",
              "\n",
              "   home_shots  away_shots  home_tackles  away_tackles  goal_home_ft  \\\n",
              "0          26          14            19            15             2   \n",
              "1          21          12            31            27             3   \n",
              "2          17          11            27            20             1   \n",
              "3          21          11            16            20             2   \n",
              "4          13          25            32            23             0   \n",
              "\n",
              "   goal_away_ft  home_win  away_win  home_comeback  away_comeback  \n",
              "0             1         1         0              0              0  \n",
              "1             0         1         0              0              0  \n",
              "2             0         1         0              0              0  \n",
              "3             1         1         0              1              0  \n",
              "4             0         0         0              0              0  "
            ],
            "text/html": [
              "\n",
              "  <div id=\"df-7cc10e0f-4f28-44df-a3df-08055d834a93\" class=\"colab-df-container\">\n",
              "    <div>\n",
              "<style scoped>\n",
              "    .dataframe tbody tr th:only-of-type {\n",
              "        vertical-align: middle;\n",
              "    }\n",
              "\n",
              "    .dataframe tbody tr th {\n",
              "        vertical-align: top;\n",
              "    }\n",
              "\n",
              "    .dataframe thead th {\n",
              "        text-align: right;\n",
              "    }\n",
              "</style>\n",
              "<table border=\"1\" class=\"dataframe\">\n",
              "  <thead>\n",
              "    <tr style=\"text-align: right;\">\n",
              "      <th></th>\n",
              "      <th>season</th>\n",
              "      <th>home_fouls_conceded</th>\n",
              "      <th>away_fouls_conceded</th>\n",
              "      <th>home_cards</th>\n",
              "      <th>away_cards</th>\n",
              "      <th>home_shots</th>\n",
              "      <th>away_shots</th>\n",
              "      <th>home_tackles</th>\n",
              "      <th>away_tackles</th>\n",
              "      <th>goal_home_ft</th>\n",
              "      <th>goal_away_ft</th>\n",
              "      <th>home_win</th>\n",
              "      <th>away_win</th>\n",
              "      <th>home_comeback</th>\n",
              "      <th>away_comeback</th>\n",
              "    </tr>\n",
              "  </thead>\n",
              "  <tbody>\n",
              "    <tr>\n",
              "      <th>0</th>\n",
              "      <td>10/11</td>\n",
              "      <td>16</td>\n",
              "      <td>13</td>\n",
              "      <td>2</td>\n",
              "      <td>5</td>\n",
              "      <td>26</td>\n",
              "      <td>14</td>\n",
              "      <td>19</td>\n",
              "      <td>15</td>\n",
              "      <td>2</td>\n",
              "      <td>1</td>\n",
              "      <td>1</td>\n",
              "      <td>0</td>\n",
              "      <td>0</td>\n",
              "      <td>0</td>\n",
              "    </tr>\n",
              "    <tr>\n",
              "      <th>1</th>\n",
              "      <td>10/11</td>\n",
              "      <td>6</td>\n",
              "      <td>3</td>\n",
              "      <td>1</td>\n",
              "      <td>0</td>\n",
              "      <td>21</td>\n",
              "      <td>12</td>\n",
              "      <td>31</td>\n",
              "      <td>27</td>\n",
              "      <td>3</td>\n",
              "      <td>0</td>\n",
              "      <td>1</td>\n",
              "      <td>0</td>\n",
              "      <td>0</td>\n",
              "      <td>0</td>\n",
              "    </tr>\n",
              "    <tr>\n",
              "      <th>2</th>\n",
              "      <td>10/11</td>\n",
              "      <td>9</td>\n",
              "      <td>17</td>\n",
              "      <td>0</td>\n",
              "      <td>4</td>\n",
              "      <td>17</td>\n",
              "      <td>11</td>\n",
              "      <td>27</td>\n",
              "      <td>20</td>\n",
              "      <td>1</td>\n",
              "      <td>0</td>\n",
              "      <td>1</td>\n",
              "      <td>0</td>\n",
              "      <td>0</td>\n",
              "      <td>0</td>\n",
              "    </tr>\n",
              "    <tr>\n",
              "      <th>3</th>\n",
              "      <td>10/11</td>\n",
              "      <td>12</td>\n",
              "      <td>14</td>\n",
              "      <td>1</td>\n",
              "      <td>2</td>\n",
              "      <td>21</td>\n",
              "      <td>11</td>\n",
              "      <td>16</td>\n",
              "      <td>20</td>\n",
              "      <td>2</td>\n",
              "      <td>1</td>\n",
              "      <td>1</td>\n",
              "      <td>0</td>\n",
              "      <td>1</td>\n",
              "      <td>0</td>\n",
              "    </tr>\n",
              "    <tr>\n",
              "      <th>4</th>\n",
              "      <td>10/11</td>\n",
              "      <td>11</td>\n",
              "      <td>13</td>\n",
              "      <td>2</td>\n",
              "      <td>1</td>\n",
              "      <td>13</td>\n",
              "      <td>25</td>\n",
              "      <td>32</td>\n",
              "      <td>23</td>\n",
              "      <td>0</td>\n",
              "      <td>0</td>\n",
              "      <td>0</td>\n",
              "      <td>0</td>\n",
              "      <td>0</td>\n",
              "      <td>0</td>\n",
              "    </tr>\n",
              "  </tbody>\n",
              "</table>\n",
              "</div>\n",
              "    <div class=\"colab-df-buttons\">\n",
              "\n",
              "  <div class=\"colab-df-container\">\n",
              "    <button class=\"colab-df-convert\" onclick=\"convertToInteractive('df-7cc10e0f-4f28-44df-a3df-08055d834a93')\"\n",
              "            title=\"Convert this dataframe to an interactive table.\"\n",
              "            style=\"display:none;\">\n",
              "\n",
              "  <svg xmlns=\"http://www.w3.org/2000/svg\" height=\"24px\" viewBox=\"0 -960 960 960\">\n",
              "    <path d=\"M120-120v-720h720v720H120Zm60-500h600v-160H180v160Zm220 220h160v-160H400v160Zm0 220h160v-160H400v160ZM180-400h160v-160H180v160Zm440 0h160v-160H620v160ZM180-180h160v-160H180v160Zm440 0h160v-160H620v160Z\"/>\n",
              "  </svg>\n",
              "    </button>\n",
              "\n",
              "  <style>\n",
              "    .colab-df-container {\n",
              "      display:flex;\n",
              "      gap: 12px;\n",
              "    }\n",
              "\n",
              "    .colab-df-convert {\n",
              "      background-color: #E8F0FE;\n",
              "      border: none;\n",
              "      border-radius: 50%;\n",
              "      cursor: pointer;\n",
              "      display: none;\n",
              "      fill: #1967D2;\n",
              "      height: 32px;\n",
              "      padding: 0 0 0 0;\n",
              "      width: 32px;\n",
              "    }\n",
              "\n",
              "    .colab-df-convert:hover {\n",
              "      background-color: #E2EBFA;\n",
              "      box-shadow: 0px 1px 2px rgba(60, 64, 67, 0.3), 0px 1px 3px 1px rgba(60, 64, 67, 0.15);\n",
              "      fill: #174EA6;\n",
              "    }\n",
              "\n",
              "    .colab-df-buttons div {\n",
              "      margin-bottom: 4px;\n",
              "    }\n",
              "\n",
              "    [theme=dark] .colab-df-convert {\n",
              "      background-color: #3B4455;\n",
              "      fill: #D2E3FC;\n",
              "    }\n",
              "\n",
              "    [theme=dark] .colab-df-convert:hover {\n",
              "      background-color: #434B5C;\n",
              "      box-shadow: 0px 1px 3px 1px rgba(0, 0, 0, 0.15);\n",
              "      filter: drop-shadow(0px 1px 2px rgba(0, 0, 0, 0.3));\n",
              "      fill: #FFFFFF;\n",
              "    }\n",
              "  </style>\n",
              "\n",
              "    <script>\n",
              "      const buttonEl =\n",
              "        document.querySelector('#df-7cc10e0f-4f28-44df-a3df-08055d834a93 button.colab-df-convert');\n",
              "      buttonEl.style.display =\n",
              "        google.colab.kernel.accessAllowed ? 'block' : 'none';\n",
              "\n",
              "      async function convertToInteractive(key) {\n",
              "        const element = document.querySelector('#df-7cc10e0f-4f28-44df-a3df-08055d834a93');\n",
              "        const dataTable =\n",
              "          await google.colab.kernel.invokeFunction('convertToInteractive',\n",
              "                                                    [key], {});\n",
              "        if (!dataTable) return;\n",
              "\n",
              "        const docLinkHtml = 'Like what you see? Visit the ' +\n",
              "          '<a target=\"_blank\" href=https://colab.research.google.com/notebooks/data_table.ipynb>data table notebook</a>'\n",
              "          + ' to learn more about interactive tables.';\n",
              "        element.innerHTML = '';\n",
              "        dataTable['output_type'] = 'display_data';\n",
              "        await google.colab.output.renderOutput(dataTable, element);\n",
              "        const docLink = document.createElement('div');\n",
              "        docLink.innerHTML = docLinkHtml;\n",
              "        element.appendChild(docLink);\n",
              "      }\n",
              "    </script>\n",
              "  </div>\n",
              "\n",
              "\n",
              "<div id=\"df-11fff885-772b-4593-8d9a-e8fa664a9ddf\">\n",
              "  <button class=\"colab-df-quickchart\" onclick=\"quickchart('df-11fff885-772b-4593-8d9a-e8fa664a9ddf')\"\n",
              "            title=\"Suggest charts.\"\n",
              "            style=\"display:none;\">\n",
              "\n",
              "<svg xmlns=\"http://www.w3.org/2000/svg\" height=\"24px\"viewBox=\"0 0 24 24\"\n",
              "     width=\"24px\">\n",
              "    <g>\n",
              "        <path d=\"M19 3H5c-1.1 0-2 .9-2 2v14c0 1.1.9 2 2 2h14c1.1 0 2-.9 2-2V5c0-1.1-.9-2-2-2zM9 17H7v-7h2v7zm4 0h-2V7h2v10zm4 0h-2v-4h2v4z\"/>\n",
              "    </g>\n",
              "</svg>\n",
              "  </button>\n",
              "\n",
              "<style>\n",
              "  .colab-df-quickchart {\n",
              "      --bg-color: #E8F0FE;\n",
              "      --fill-color: #1967D2;\n",
              "      --hover-bg-color: #E2EBFA;\n",
              "      --hover-fill-color: #174EA6;\n",
              "      --disabled-fill-color: #AAA;\n",
              "      --disabled-bg-color: #DDD;\n",
              "  }\n",
              "\n",
              "  [theme=dark] .colab-df-quickchart {\n",
              "      --bg-color: #3B4455;\n",
              "      --fill-color: #D2E3FC;\n",
              "      --hover-bg-color: #434B5C;\n",
              "      --hover-fill-color: #FFFFFF;\n",
              "      --disabled-bg-color: #3B4455;\n",
              "      --disabled-fill-color: #666;\n",
              "  }\n",
              "\n",
              "  .colab-df-quickchart {\n",
              "    background-color: var(--bg-color);\n",
              "    border: none;\n",
              "    border-radius: 50%;\n",
              "    cursor: pointer;\n",
              "    display: none;\n",
              "    fill: var(--fill-color);\n",
              "    height: 32px;\n",
              "    padding: 0;\n",
              "    width: 32px;\n",
              "  }\n",
              "\n",
              "  .colab-df-quickchart:hover {\n",
              "    background-color: var(--hover-bg-color);\n",
              "    box-shadow: 0 1px 2px rgba(60, 64, 67, 0.3), 0 1px 3px 1px rgba(60, 64, 67, 0.15);\n",
              "    fill: var(--button-hover-fill-color);\n",
              "  }\n",
              "\n",
              "  .colab-df-quickchart-complete:disabled,\n",
              "  .colab-df-quickchart-complete:disabled:hover {\n",
              "    background-color: var(--disabled-bg-color);\n",
              "    fill: var(--disabled-fill-color);\n",
              "    box-shadow: none;\n",
              "  }\n",
              "\n",
              "  .colab-df-spinner {\n",
              "    border: 2px solid var(--fill-color);\n",
              "    border-color: transparent;\n",
              "    border-bottom-color: var(--fill-color);\n",
              "    animation:\n",
              "      spin 1s steps(1) infinite;\n",
              "  }\n",
              "\n",
              "  @keyframes spin {\n",
              "    0% {\n",
              "      border-color: transparent;\n",
              "      border-bottom-color: var(--fill-color);\n",
              "      border-left-color: var(--fill-color);\n",
              "    }\n",
              "    20% {\n",
              "      border-color: transparent;\n",
              "      border-left-color: var(--fill-color);\n",
              "      border-top-color: var(--fill-color);\n",
              "    }\n",
              "    30% {\n",
              "      border-color: transparent;\n",
              "      border-left-color: var(--fill-color);\n",
              "      border-top-color: var(--fill-color);\n",
              "      border-right-color: var(--fill-color);\n",
              "    }\n",
              "    40% {\n",
              "      border-color: transparent;\n",
              "      border-right-color: var(--fill-color);\n",
              "      border-top-color: var(--fill-color);\n",
              "    }\n",
              "    60% {\n",
              "      border-color: transparent;\n",
              "      border-right-color: var(--fill-color);\n",
              "    }\n",
              "    80% {\n",
              "      border-color: transparent;\n",
              "      border-right-color: var(--fill-color);\n",
              "      border-bottom-color: var(--fill-color);\n",
              "    }\n",
              "    90% {\n",
              "      border-color: transparent;\n",
              "      border-bottom-color: var(--fill-color);\n",
              "    }\n",
              "  }\n",
              "</style>\n",
              "\n",
              "  <script>\n",
              "    async function quickchart(key) {\n",
              "      const quickchartButtonEl =\n",
              "        document.querySelector('#' + key + ' button');\n",
              "      quickchartButtonEl.disabled = true;  // To prevent multiple clicks.\n",
              "      quickchartButtonEl.classList.add('colab-df-spinner');\n",
              "      try {\n",
              "        const charts = await google.colab.kernel.invokeFunction(\n",
              "            'suggestCharts', [key], {});\n",
              "      } catch (error) {\n",
              "        console.error('Error during call to suggestCharts:', error);\n",
              "      }\n",
              "      quickchartButtonEl.classList.remove('colab-df-spinner');\n",
              "      quickchartButtonEl.classList.add('colab-df-quickchart-complete');\n",
              "    }\n",
              "    (() => {\n",
              "      let quickchartButtonEl =\n",
              "        document.querySelector('#df-11fff885-772b-4593-8d9a-e8fa664a9ddf button');\n",
              "      quickchartButtonEl.style.display =\n",
              "        google.colab.kernel.accessAllowed ? 'block' : 'none';\n",
              "    })();\n",
              "  </script>\n",
              "</div>\n",
              "    </div>\n",
              "  </div>\n"
            ]
          },
          "metadata": {},
          "execution_count": 8
        }
      ]
    },
    {
      "cell_type": "code",
      "source": [
        "#Creating separate dataframes for tests performed below\n",
        "df1 = df[df['season'] != '20/21']\n",
        "df21 = df[df['season'] == '20/21']\n",
        "stats = ['Fouls', 'Cards', 'Shots', 'Tackles', 'Goals', 'Wins', 'Comebacks']\n",
        "dflabels = ['Season', 'Home Fouls', 'Away Fouls', 'Home Cards', 'Away Cards', 'Home Shots', 'Away Shots', 'Home Tackles',\n",
        "            'Away Tackles', 'Home Goals', 'Away Goals', 'Home Wins', 'Away Wins', 'Home Comebacks', 'Away Comebacks']\n",
        "home_df = df[df.columns[[1,3,5,7,9,11,13]]]\n",
        "away_df = df[df.columns[[2,4,6,8,10,12,14]]]"
      ],
      "metadata": {
        "id": "bLhd8uSVmnKE"
      },
      "execution_count": 9,
      "outputs": []
    },
    {
      "cell_type": "code",
      "source": [
        "#Fixing confidence level 95%\n",
        "alpha = 0.05\n",
        "tc = t.ppf(q=1-alpha/2, df=len(df)-2)\n",
        "dfn = 1\n",
        "dfd = len(df) - 2\n",
        "fc = f.ppf(1 - alpha, dfn, dfd)"
      ],
      "metadata": {
        "id": "mStI-Vy0msqV"
      },
      "execution_count": 10,
      "outputs": []
    },
    {
      "cell_type": "code",
      "source": [
        "# Perform the t-test for each stat\n",
        "for i in range(0,5):\n",
        "    t, p = ttest_ind(home_df[home_df.columns[i]], away_df[away_df.columns[i]], equal_var=False)\n",
        "    print(stats[i], 't-statistic:', t)\n",
        "    if abs(t)>tc:\n",
        "        print('There is a signifincant difference between home and away teams in terms of', stats[i], '\\n')\n",
        "    else:\n",
        "        print('There is no signifincant difference between home and away teams in terms of', stats[i], '\\n')"
      ],
      "metadata": {
        "colab": {
          "base_uri": "https://localhost:8080/"
        },
        "id": "ZOuKGT7hmuId",
        "outputId": "30e7ba04-8a85-4beb-f49f-1a5720e6bb2f"
      },
      "execution_count": 11,
      "outputs": [
        {
          "output_type": "stream",
          "name": "stdout",
          "text": [
            "Fouls t-statistic: -5.661073633207914\n",
            "There is a signifincant difference between home and away teams in terms of Fouls \n",
            "\n",
            "Cards t-statistic: -9.5234327965814\n",
            "There is a signifincant difference between home and away teams in terms of Cards \n",
            "\n",
            "Shots t-statistic: 24.04715428656508\n",
            "There is a signifincant difference between home and away teams in terms of Shots \n",
            "\n",
            "Tackles t-statistic: -2.8077692836727097\n",
            "There is a signifincant difference between home and away teams in terms of Tackles \n",
            "\n",
            "Goals t-statistic: 12.1655624565121\n",
            "There is a signifincant difference between home and away teams in terms of Goals \n",
            "\n"
          ]
        }
      ]
    },
    {
      "cell_type": "code",
      "source": [
        "#Performing non-parametric test since data is not normally distributed\n",
        "for i in range(0,5):\n",
        "    statistic, pvalue = ranksums(home_df[home_df.columns[i]], away_df[away_df.columns[i]])\n",
        "    print(stats[i], 'Wilcoxon rank-sum test:', statistic)\n",
        "    if pvalue<alpha:\n",
        "        print('There is a signifincant difference between home and away teams in terms of', stats[i], '\\n')\n",
        "    else:\n",
        "        print('There is no signifincant difference between home and away teams in terms of', stats[i], '\\n')"
      ],
      "metadata": {
        "colab": {
          "base_uri": "https://localhost:8080/"
        },
        "id": "NY3ss9ptmxEm",
        "outputId": "37d3c6f7-54ee-451d-e0f3-df33fb653caa"
      },
      "execution_count": 12,
      "outputs": [
        {
          "output_type": "stream",
          "name": "stdout",
          "text": [
            "Fouls Wilcoxon rank-sum test: -5.289815919316039\n",
            "There is a signifincant difference between home and away teams in terms of Fouls \n",
            "\n",
            "Cards Wilcoxon rank-sum test: -9.036319214731106\n",
            "There is a signifincant difference between home and away teams in terms of Cards \n",
            "\n",
            "Shots Wilcoxon rank-sum test: 22.751614598743746\n",
            "There is a signifincant difference between home and away teams in terms of Shots \n",
            "\n",
            "Tackles Wilcoxon rank-sum test: -2.710496741626685\n",
            "There is a signifincant difference between home and away teams in terms of Tackles \n",
            "\n",
            "Goals Wilcoxon rank-sum test: 11.698886055425419\n",
            "There is a signifincant difference between home and away teams in terms of Goals \n",
            "\n"
          ]
        }
      ]
    },
    {
      "cell_type": "code",
      "source": [
        "#Performing oneway ANOVA\n",
        "for i in range(0,5):\n",
        "    statistic, pvalue = f_oneway(home_df[home_df.columns[i]], away_df[away_df.columns[i]])\n",
        "    print(stats[i], 'ANOVA F value:', statistic)\n",
        "    if statistic>fc:\n",
        "        print('There is a signifincant difference between home and away teams in terms of', stats[i], '\\n')\n",
        "    else:\n",
        "        print('There is no signifincant difference between home and away teams in terms of', stats[i], '\\n')"
      ],
      "metadata": {
        "colab": {
          "base_uri": "https://localhost:8080/"
        },
        "id": "Sidwn5Ehm2Df",
        "outputId": "0c456531-60b5-474b-f26a-0a69602c7ed2"
      },
      "execution_count": 13,
      "outputs": [
        {
          "output_type": "stream",
          "name": "stdout",
          "text": [
            "Fouls ANOVA F value: 32.04775468060191\n",
            "There is a signifincant difference between home and away teams in terms of Fouls \n",
            "\n",
            "Cards ANOVA F value: 90.69577223100214\n",
            "There is a signifincant difference between home and away teams in terms of Cards \n",
            "\n",
            "Shots ANOVA F value: 578.2656292818654\n",
            "There is a signifincant difference between home and away teams in terms of Shots \n",
            "\n",
            "Tackles ANOVA F value: 7.883568350336029\n",
            "There is a signifincant difference between home and away teams in terms of Tackles \n",
            "\n",
            "Goals ANOVA F value: 148.00090988329677\n",
            "There is a signifincant difference between home and away teams in terms of Goals \n",
            "\n"
          ]
        }
      ]
    },
    {
      "cell_type": "code",
      "source": [
        "#Estimating mean statistics for home team\n",
        "for i in range(0,5):\n",
        "    sample_mean = home_df[home_df.columns[i]].mean()\n",
        "    sample_std = home_df[home_df.columns[i]].std()\n",
        "    n = len(df)\n",
        "    standard_error = sample_std / np.sqrt(n)\n",
        "    margin_of_error = tc * standard_error\n",
        "    confidence_interval = (sample_mean - margin_of_error, sample_mean + margin_of_error)\n",
        "    print('Home', stats[i], sample_mean)\n",
        "    print('Confidence Interval:', confidence_interval, '\\n')"
      ],
      "metadata": {
        "colab": {
          "base_uri": "https://localhost:8080/"
        },
        "id": "isJnec6Km6C3",
        "outputId": "da47abe3-7486-4145-e03d-4b5a27cfbc4d"
      },
      "execution_count": 14,
      "outputs": [
        {
          "output_type": "stream",
          "name": "stdout",
          "text": [
            "Home Fouls 10.778624078624079\n",
            "Confidence Interval: (10.673077109180626, 10.88417104806753) \n",
            "\n",
            "Home Cards 1.5545454545454545\n",
            "Confidence Interval: (1.516981931988705, 1.592108977102204) \n",
            "\n",
            "Home Shots 14.545454545454545\n",
            "Confidence Interval: (14.368179600681515, 14.722729490227575) \n",
            "\n",
            "Home Tackles 17.96117936117936\n",
            "Confidence Interval: (17.78859685801518, 18.133761864343544) \n",
            "\n",
            "Home Goals 1.5356265356265357\n",
            "Confidence Interval: (1.4955433198313295, 1.575709751421742) \n",
            "\n"
          ]
        }
      ]
    },
    {
      "cell_type": "code",
      "source": [
        "#Estimating mean statistics for away team\n",
        "for i in range(0,5):\n",
        "    sample_mean = away_df[away_df.columns[i]].mean()\n",
        "    sample_std = away_df[away_df.columns[i]].std()\n",
        "    n = len(df)\n",
        "    standard_error = sample_std / np.sqrt(n)\n",
        "    margin_of_error = tc * standard_error\n",
        "    confidence_interval = (sample_mean - margin_of_error, sample_mean + margin_of_error)\n",
        "    print('Away', stats[i], sample_mean)\n",
        "    print('Confidence Interval:', confidence_interval, '\\n')"
      ],
      "metadata": {
        "colab": {
          "base_uri": "https://localhost:8080/"
        },
        "id": "x5Efkbccm8iR",
        "outputId": "e6ca87f2-1cd0-4865-ad0c-880911692875"
      },
      "execution_count": 15,
      "outputs": [
        {
          "output_type": "stream",
          "name": "stdout",
          "text": [
            "Away Fouls 11.218427518427518\n",
            "Confidence Interval: (11.108613559266592, 11.328241477588444) \n",
            "\n",
            "Away Cards 1.8221130221130222\n",
            "Confidence Interval: (1.781825128958344, 1.8624009152677004) \n",
            "\n",
            "Away Shots 11.694103194103194\n",
            "Confidence Interval: (11.543719478560941, 11.844486909645447) \n",
            "\n",
            "Away Tackles 18.31277641277641\n",
            "Confidence Interval: (18.138167695409454, 18.48738513014337) \n",
            "\n",
            "Away Goals 1.2007371007371008\n",
            "Confidence Interval: (1.1645982240398316, 1.23687597743437) \n",
            "\n"
          ]
        }
      ]
    },
    {
      "cell_type": "code",
      "source": [
        "#Creating box plots for each statistic\n",
        "box_data = []\n",
        "for i in range(0, 5):\n",
        "    home_data = home_df[home_df.columns[i]]\n",
        "    away_data = away_df[away_df.columns[i]]\n",
        "    box_data.append(home_data)\n",
        "    box_data.append(away_data)\n",
        "    plt.boxplot(box_data)\n",
        "    plt.xticks([1, 2], ['Home', 'Away'])\n",
        "    plt.title(stats[i])\n",
        "    plt.show()\n",
        "    box_data = []"
      ],
      "metadata": {
        "colab": {
          "base_uri": "https://localhost:8080/",
          "height": 1000
        },
        "id": "z7wKp0B6nBc2",
        "outputId": "fa70117b-4935-4908-d3dd-4ac5807fefe2"
      },
      "execution_count": 16,
      "outputs": [
        {
          "output_type": "display_data",
          "data": {
            "text/plain": [
              "<Figure size 640x480 with 1 Axes>"
            ],
            "image/png": "[encoded data removed]"
          },
          "metadata": {}
        },
        {
          "output_type": "display_data",
          "data": {
            "text/plain": [
              "<Figure size 640x480 with 1 Axes>"
            ],
            "image/png": "[encoded data removed]"
          },
          "metadata": {}
        },
        {
          "output_type": "display_data",
          "data": {
            "text/plain": [
              "<Figure size 640x480 with 1 Axes>"
            ],
            "image/png": "[encoded data removed]"
          },
          "metadata": {}
        },
        {
          "output_type": "display_data",
          "data": {
            "text/plain": [
              "<Figure size 640x480 with 1 Axes>"
            ],
            "image/png": "[encoded data removed]"
          },
          "metadata": {}
        },
        {
          "output_type": "display_data",
          "data": {
            "text/plain": [
              "<Figure size 640x480 with 1 Axes>"
            ],
            "image/png": "[encoded data removed]"
          },
          "metadata": {}
        }
      ]
    },
    {
      "cell_type": "code",
      "source": [
        "home_wins = df1['home_win'].sum()\n",
        "away_wins = df1['away_win'].sum()\n",
        "home_comebacks = df1['home_comeback'].sum()\n",
        "away_comebacks = df1['away_comeback'].sum()\n",
        "home_wins2 = df21['home_win'].sum()\n",
        "away_wins2 = df21['away_win'].sum()\n",
        "home_comebacks2 = df21['home_comeback'].sum()\n",
        "away_comebacks2 = df21['away_comeback'].sum()\n",
        "fig, ax = plt.subplots()\n",
        "ax.bar(['Home Wins', 'Away Wins'], [home_wins, away_wins])\n",
        "ax.set_title('Total Wins')\n",
        "plt.show()\n",
        "fig, ax = plt.subplots()\n",
        "ax.bar(['Home Comebacks', 'Away Comebacks'], [home_comebacks, away_comebacks])\n",
        "ax.set_title('Total Comebacks')\n",
        "plt.show()\n",
        "fig, ax = plt.subplots()\n",
        "ax.bar(['Home Wins', 'Away Wins'], [home_wins2, away_wins2])\n",
        "ax.set_title('Pandemic Total Wins')\n",
        "plt.show()\n",
        "fig, ax = plt.subplots()\n",
        "ax.bar(['Home Comebacks', 'Away Comebacks'], [home_comebacks2, away_comebacks2])\n",
        "ax.set_title('Pandemic Total Comebacks')\n",
        "plt.show()"
      ],
      "metadata": {
        "colab": {
          "base_uri": "https://localhost:8080/",
          "height": 1000
        },
        "id": "ai9Fz_3SnEBl",
        "outputId": "8ef2e217-f656-40fd-a41f-de0236a7125d"
      },
      "execution_count": 17,
      "outputs": [
        {
          "output_type": "display_data",
          "data": {
            "text/plain": [
              "<Figure size 640x480 with 1 Axes>"
            ],
            "image/png": "[encoded data removed]"
          },
          "metadata": {}
        },
        {
          "output_type": "display_data",
          "data": {
            "text/plain": [
              "<Figure size 640x480 with 1 Axes>"
            ],
            "image/png": "[encoded data removed]"
          },
          "metadata": {}
        },
        {
          "output_type": "display_data",
          "data": {
            "text/plain": [
              "<Figure size 640x480 with 1 Axes>"
            ],
            "image/png": "[encoded data removed]"
          },
          "metadata": {}
        },
        {
          "output_type": "display_data",
          "data": {
            "text/plain": [
              "<Figure size 640x480 with 1 Axes>"
            ],
            "image/png": "[encoded data removed]"
          },
          "metadata": {}
        }
      ]
    },
    {
      "cell_type": "code",
      "source": [],
      "metadata": {
        "id": "SlTVL64onG2L"
      },
      "execution_count": 17,
      "outputs": []
    }
  ]
}
